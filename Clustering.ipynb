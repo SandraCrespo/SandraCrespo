{
 "cells": [
  {
   "cell_type": "markdown",
   "metadata": {},
   "source": [
    "Con los resultados obtenidos en el ACP de los datos “churn”, procedemos ahora a obtener una tipología de los clientes de la entidad bancaria según su posición en los diversos productos financieros. Para ello disponemos del Análisis de Componentes Principales realizado con los clientes “normales” (que no han sido baja) en la Sesión previa. "
   ]
  },
  {
   "cell_type": "code",
   "execution_count": 2,
   "metadata": {},
   "outputs": [],
   "source": [
    "#LIBRARIES\n",
    "library(tidyr)\n",
    "library(mice)\n",
    "library(magrittr)\n",
    "library(stringr)\n",
    "library(dplyr)\n",
    "library(FactoMineR)\n",
    "library(class)"
   ]
  },
  {
   "cell_type": "code",
   "execution_count": 3,
   "metadata": {},
   "outputs": [
    {
     "name": "stdout",
     "output_type": "stream",
     "text": [
      "\n",
      " iter imp variable\n",
      "  1   1  antig  Nomina  Pension  Debito_aff  VISA  MCard\n",
      "  2   1  antig  Nomina  Pension  Debito_aff  VISA  MCard\n",
      "  3   1  antig  Nomina  Pension  Debito_aff  VISA  MCard\n",
      "  4   1  antig  Nomina  Pension  Debito_aff  VISA  MCard\n",
      "  5   1  antig  Nomina  Pension  Debito_aff  VISA  MCard\n"
     ]
    }
   ],
   "source": [
    "# LEER FICHERO\n",
    "#setwd(\"/Users/Nuria/Documents/UPC/Analytics\")\n",
    "churn <- read.delim(\"churn.txt\", header = TRUE, sep = \" \")\n",
    "# IMPUTACIÓN DE VALORES NULOS Y CORRECCIÓN DE DATOS\n",
    "churn$antig[churn$antig==99] <- NA \n",
    "churn <- complete(mice(churn, m=1)) \n",
    "churn <- churn %>% distinct %>% transform(., Baja = str_sub(.$Baja,-2,-1), \n",
    "                                          edatcat = str_sub(.$edatcat,9,-1), \n",
    "                                          Nomina = str_sub(.$Nomina,-2,-1), \n",
    "                                          Pension = str_sub(.$Pension,-2,-1), \n",
    "                                          Debito_normal = str_sub(.$Debito_normal, -2,-1), \n",
    "                                          Debito_aff = str_sub(.$Debito_aff, -2,-1), \n",
    "                                          VISA = str_sub(.$VISA, -2,-1), \n",
    "                                          VISA_aff = str_sub(.$VISA_aff, -2,-1), \n",
    "                                          MCard = str_sub(.$MCard, -2,-1), \n",
    "                                          Amex = str_sub(.$Amex, -2,-1), \n",
    "                                          dif_resid = str_sub(.$dif_resid, -2,-1)) %>% \n",
    "  transform (., sexo = ifelse(.$sexo==\"No informado\", \"MUJER\", \"HOMBRE\")) %>% \n",
    "  .[complete.cases(.), ] %>% \n",
    "  rename(Edad=edatcat, \n",
    "         Sexo=sexo, \n",
    "         Antig=antig, \n",
    "         Debito_Normal=Debito_normal, \n",
    "         Debito_Aff=Debito_aff, \n",
    "         VISA_Aff=VISA_aff, \n",
    "         Oper_Caj_Libreta=oper_caj_Libreta, \n",
    "         Oper_Ven_Libreta=oper_ven_Libreta, \n",
    "         Total_Activo=Total_activo, \n",
    "         Dif_Resid=dif_resid, \n",
    "         Dif_Libreta=dif_Libreta, \n",
    "         Dif_Plazo=dif_Plazo, \n",
    "         Dif_Ahorro=dif_Ahorro, \n",
    "         Dif_CC=dif_CC, \n",
    "         Dif_Largo_Plazo=dif_Largo_plazo, \n",
    "         Dif_Fondos_Inv=dif_Fondos_inv, \n",
    "         Dif_Seguros=dif_Seguros, \n",
    "         Dif_Planes_Pension=dif_Planes_pension, \n",
    "         Dif_Hipoteca=dif_Hipoteca, \n",
    "         Dif_Prest_Personales=dif_Prest_personales) "
   ]
  },
  {
   "cell_type": "code",
   "execution_count": 4,
   "metadata": {},
   "outputs": [
    {
     "data": {
      "text/html": [
       "<ol class=list-inline>\n",
       "\t<li>1996</li>\n",
       "\t<li>30</li>\n",
       "</ol>\n"
      ],
      "text/latex": [
       "\\begin{enumerate*}\n",
       "\\item 1996\n",
       "\\item 30\n",
       "\\end{enumerate*}\n"
      ],
      "text/markdown": [
       "1. 1996\n",
       "2. 30\n",
       "\n",
       "\n"
      ],
      "text/plain": [
       "[1] 1996   30"
      ]
     },
     "metadata": {},
     "output_type": "display_data"
    }
   ],
   "source": [
    "dim(churn)"
   ]
  },
  {
   "cell_type": "code",
   "execution_count": 5,
   "metadata": {},
   "outputs": [
    {
     "data": {
      "text/plain": [
       "     Baja               Edad               Sexo               Antig     \n",
       " Length:1996        Length:1996        Length:1996        Min.   : 3.0  \n",
       " Class :character   Class :character   Class :character   1st Qu.:13.0  \n",
       " Mode  :character   Mode  :character   Mode  :character   Median :18.0  \n",
       "                                                          Mean   :16.8  \n",
       "                                                          3rd Qu.:20.0  \n",
       "                                                          Max.   :69.0  \n",
       "    Nomina            Pension          Debito_Normal       Debito_Aff       \n",
       " Length:1996        Length:1996        Length:1996        Length:1996       \n",
       " Class :character   Class :character   Class :character   Class :character  \n",
       " Mode  :character   Mode  :character   Mode  :character   Mode  :character  \n",
       "                                                                            \n",
       "                                                                            \n",
       "                                                                            \n",
       "     VISA             VISA_Aff            MCard               Amex          \n",
       " Length:1996        Length:1996        Length:1996        Length:1996       \n",
       " Class :character   Class :character   Class :character   Class :character  \n",
       " Mode  :character   Mode  :character   Mode  :character   Mode  :character  \n",
       "                                                                            \n",
       "                                                                            \n",
       "                                                                            \n",
       "  Total_Activo      Total_Plazo    Total_Inversion   Total_Seguros    \n",
       " Min.   :    0.0   Min.   :    0   Min.   :    0.0   Min.   :    0.0  \n",
       " 1st Qu.:    0.0   1st Qu.:    0   1st Qu.:    0.0   1st Qu.:    0.0  \n",
       " Median :    0.0   Median :    0   Median :    0.0   Median :    0.0  \n",
       " Mean   :  619.2   Mean   : 1335   Mean   :  854.8   Mean   :  279.5  \n",
       " 3rd Qu.:    0.0   3rd Qu.:  485   3rd Qu.:    0.0   3rd Qu.:    0.0  \n",
       " Max.   :32772.0   Max.   :43400   Max.   :62017.0   Max.   :45455.0  \n",
       "  Total_Vista       Dif_Resid         Oper_Caj_Libreta    Oper_Ven_Libreta   \n",
       " Min.   :    0.0   Length:1996        Min.   :-1157.500   Min.   :-6378.260  \n",
       " 1st Qu.:   52.0   Class :character   1st Qu.:    0.000   1st Qu.:   -6.812  \n",
       " Median :  208.5   Mode  :character   Median :    0.000   Median :    0.000  \n",
       " Mean   :  570.3                      Mean   :   -7.419   Mean   :    2.546  \n",
       " 3rd Qu.:  660.5                      3rd Qu.:    5.000   3rd Qu.:   52.500  \n",
       " Max.   :12738.0                      Max.   :  774.750   Max.   : 5038.670  \n",
       "     Dif_CC          Dif_Libreta           Dif_Plazo       \n",
       " Min.   :-3312.54   Min.   :-11811.900   Min.   :-15000.0  \n",
       " 1st Qu.:    0.00   1st Qu.:   -57.197   1st Qu.:     0.0  \n",
       " Median :    0.00   Median :     1.765   Median :     0.0  \n",
       " Mean   :   26.98   Mean   :   -42.026   Mean   :   115.1  \n",
       " 3rd Qu.:    0.00   3rd Qu.:    98.195   3rd Qu.:     0.0  \n",
       " Max.   : 9715.28   Max.   : 12737.000   Max.   : 27000.0  \n",
       "   Dif_Ahorro         Dif_Largo_Plazo     Dif_Fondos_Inv     Dif_Seguros      \n",
       " Min.   :-24208.000   Min.   :-15913.04   Min.   :-7746.1   Min.   :-3905.05  \n",
       " 1st Qu.:     0.000   1st Qu.:     0.00   1st Qu.:    0.0   1st Qu.:    0.00  \n",
       " Median :     0.000   Median :     0.00   Median :    0.0   Median :    0.00  \n",
       " Mean   :     7.066   Mean   :    26.16   Mean   :  262.3   Mean   :   17.86  \n",
       " 3rd Qu.:     0.000   3rd Qu.:     0.00   3rd Qu.:    0.0   3rd Qu.:    0.00  \n",
       " Max.   :  4008.000   Max.   : 10071.00   Max.   :62017.0   Max.   :19461.00  \n",
       " Dif_Planes_Pension  Dif_Hipoteca      Dif_Prest_Personales\n",
       " Min.   :-8246.55   Min.   :-26654.0   Min.   :-8676.00    \n",
       " 1st Qu.:    0.00   1st Qu.:     0.0   1st Qu.:    0.00    \n",
       " Median :    0.00   Median :     0.0   Median :    0.00    \n",
       " Mean   :  -39.94   Mean   :    13.3   Mean   :   17.54    \n",
       " 3rd Qu.:    0.00   3rd Qu.:     0.0   3rd Qu.:    0.00    \n",
       " Max.   :    0.00   Max.   : 32772.0   Max.   : 6741.00    "
      ]
     },
     "metadata": {},
     "output_type": "display_data"
    }
   ],
   "source": [
    "summary(churn)"
   ]
  },
  {
   "cell_type": "code",
   "execution_count": 6,
   "metadata": {},
   "outputs": [
    {
     "data": {
      "text/html": [
       "<table>\n",
       "<thead><tr><th scope=col>Baja</th><th scope=col>Edad</th><th scope=col>Sexo</th><th scope=col>Antig</th><th scope=col>Nomina</th><th scope=col>Pension</th><th scope=col>Debito_Normal</th><th scope=col>Debito_Aff</th></tr></thead>\n",
       "<tbody>\n",
       "\t<tr><td>NO    </td><td>46-55 </td><td>HOMBRE</td><td>15    </td><td>NO    </td><td>NO    </td><td>NO    </td><td>NO    </td></tr>\n",
       "\t<tr><td>NO    </td><td>46-55 </td><td>HOMBRE</td><td>19    </td><td>NO    </td><td>NO    </td><td>SI    </td><td>NO    </td></tr>\n",
       "\t<tr><td>NO    </td><td>36-45 </td><td>HOMBRE</td><td>15    </td><td>SI    </td><td>NO    </td><td>NO    </td><td>NO    </td></tr>\n",
       "\t<tr><td>NO    </td><td>36-45 </td><td>HOMBRE</td><td>18    </td><td>SI    </td><td>NO    </td><td>NO    </td><td>NO    </td></tr>\n",
       "\t<tr><td>NO    </td><td>36-45 </td><td>HOMBRE</td><td>21    </td><td>SI    </td><td>NO    </td><td>NO    </td><td>SI    </td></tr>\n",
       "\t<tr><td>NO    </td><td>66..  </td><td>HOMBRE</td><td>11    </td><td>NO    </td><td>SI    </td><td>NO    </td><td>NO    </td></tr>\n",
       "</tbody>\n",
       "</table>\n"
      ],
      "text/latex": [
       "\\begin{tabular}{r|llllllll}\n",
       " Baja & Edad & Sexo & Antig & Nomina & Pension & Debito\\_Normal & Debito\\_Aff\\\\\n",
       "\\hline\n",
       "\t NO     & 46-55  & HOMBRE & 15     & NO     & NO     & NO     & NO    \\\\\n",
       "\t NO     & 46-55  & HOMBRE & 19     & NO     & NO     & SI     & NO    \\\\\n",
       "\t NO     & 36-45  & HOMBRE & 15     & SI     & NO     & NO     & NO    \\\\\n",
       "\t NO     & 36-45  & HOMBRE & 18     & SI     & NO     & NO     & NO    \\\\\n",
       "\t NO     & 36-45  & HOMBRE & 21     & SI     & NO     & NO     & SI    \\\\\n",
       "\t NO     & 66..   & HOMBRE & 11     & NO     & SI     & NO     & NO    \\\\\n",
       "\\end{tabular}\n"
      ],
      "text/markdown": [
       "\n",
       "| Baja | Edad | Sexo | Antig | Nomina | Pension | Debito_Normal | Debito_Aff |\n",
       "|---|---|---|---|---|---|---|---|\n",
       "| NO     | 46-55  | HOMBRE | 15     | NO     | NO     | NO     | NO     |\n",
       "| NO     | 46-55  | HOMBRE | 19     | NO     | NO     | SI     | NO     |\n",
       "| NO     | 36-45  | HOMBRE | 15     | SI     | NO     | NO     | NO     |\n",
       "| NO     | 36-45  | HOMBRE | 18     | SI     | NO     | NO     | NO     |\n",
       "| NO     | 36-45  | HOMBRE | 21     | SI     | NO     | NO     | SI     |\n",
       "| NO     | 66..   | HOMBRE | 11     | NO     | SI     | NO     | NO     |\n",
       "\n"
      ],
      "text/plain": [
       "  Baja Edad  Sexo   Antig Nomina Pension Debito_Normal Debito_Aff\n",
       "1 NO   46-55 HOMBRE 15    NO     NO      NO            NO        \n",
       "2 NO   46-55 HOMBRE 19    NO     NO      SI            NO        \n",
       "3 NO   36-45 HOMBRE 15    SI     NO      NO            NO        \n",
       "4 NO   36-45 HOMBRE 18    SI     NO      NO            NO        \n",
       "5 NO   36-45 HOMBRE 21    SI     NO      NO            SI        \n",
       "6 NO   66..  HOMBRE 11    NO     SI      NO            NO        "
      ]
     },
     "metadata": {},
     "output_type": "display_data"
    },
    {
     "data": {
      "text/html": [
       "<table>\n",
       "<thead><tr><th scope=col>VISA</th><th scope=col>VISA_Aff</th><th scope=col>MCard</th><th scope=col>Amex</th><th scope=col>Total_Activo</th><th scope=col>Total_Plazo</th><th scope=col>Total_Inversion</th></tr></thead>\n",
       "<tbody>\n",
       "\t<tr><td>NO   </td><td>NO   </td><td>NO   </td><td>NO   </td><td> 1025</td><td>    0</td><td> 0   </td></tr>\n",
       "\t<tr><td>NO   </td><td>NO   </td><td>NO   </td><td>NO   </td><td>    0</td><td>    0</td><td> 0   </td></tr>\n",
       "\t<tr><td>SI   </td><td>NO   </td><td>NO   </td><td>NO   </td><td>11101</td><td>10000</td><td> 0   </td></tr>\n",
       "\t<tr><td>SI   </td><td>NO   </td><td>NO   </td><td>NO   </td><td>   57</td><td>    0</td><td> 0   </td></tr>\n",
       "\t<tr><td>NO   </td><td>NO   </td><td>NO   </td><td>NO   </td><td>    0</td><td>    0</td><td>40   </td></tr>\n",
       "\t<tr><td>NO   </td><td>NO   </td><td>NO   </td><td>NO   </td><td>    0</td><td>    0</td><td> 0   </td></tr>\n",
       "</tbody>\n",
       "</table>\n"
      ],
      "text/latex": [
       "\\begin{tabular}{r|lllllll}\n",
       " VISA & VISA\\_Aff & MCard & Amex & Total\\_Activo & Total\\_Plazo & Total\\_Inversion\\\\\n",
       "\\hline\n",
       "\t NO    & NO    & NO    & NO    &  1025 &     0 &  0   \\\\\n",
       "\t NO    & NO    & NO    & NO    &     0 &     0 &  0   \\\\\n",
       "\t SI    & NO    & NO    & NO    & 11101 & 10000 &  0   \\\\\n",
       "\t SI    & NO    & NO    & NO    &    57 &     0 &  0   \\\\\n",
       "\t NO    & NO    & NO    & NO    &     0 &     0 & 40   \\\\\n",
       "\t NO    & NO    & NO    & NO    &     0 &     0 &  0   \\\\\n",
       "\\end{tabular}\n"
      ],
      "text/markdown": [
       "\n",
       "| VISA | VISA_Aff | MCard | Amex | Total_Activo | Total_Plazo | Total_Inversion |\n",
       "|---|---|---|---|---|---|---|\n",
       "| NO    | NO    | NO    | NO    |  1025 |     0 |  0    |\n",
       "| NO    | NO    | NO    | NO    |     0 |     0 |  0    |\n",
       "| SI    | NO    | NO    | NO    | 11101 | 10000 |  0    |\n",
       "| SI    | NO    | NO    | NO    |    57 |     0 |  0    |\n",
       "| NO    | NO    | NO    | NO    |     0 |     0 | 40    |\n",
       "| NO    | NO    | NO    | NO    |     0 |     0 |  0    |\n",
       "\n"
      ],
      "text/plain": [
       "  VISA VISA_Aff MCard Amex Total_Activo Total_Plazo Total_Inversion\n",
       "1 NO   NO       NO    NO    1025            0        0             \n",
       "2 NO   NO       NO    NO       0            0        0             \n",
       "3 SI   NO       NO    NO   11101        10000        0             \n",
       "4 SI   NO       NO    NO      57            0        0             \n",
       "5 NO   NO       NO    NO       0            0       40             \n",
       "6 NO   NO       NO    NO       0            0        0             "
      ]
     },
     "metadata": {},
     "output_type": "display_data"
    },
    {
     "data": {
      "text/html": [
       "<table>\n",
       "<thead><tr><th scope=col>Total_Seguros</th><th scope=col>Total_Vista</th><th scope=col>Dif_Resid</th><th scope=col>Oper_Caj_Libreta</th><th scope=col>Oper_Ven_Libreta</th></tr></thead>\n",
       "<tbody>\n",
       "\t<tr><td>  0   </td><td>  10  </td><td>NO    </td><td>  0.00</td><td>  0.00</td></tr>\n",
       "\t<tr><td>850   </td><td>   0  </td><td>NO    </td><td>  0.00</td><td>-65.00</td></tr>\n",
       "\t<tr><td>  0   </td><td>1492  </td><td>SI    </td><td>351.50</td><td>  0.00</td></tr>\n",
       "\t<tr><td>  0   </td><td>  54  </td><td>NO    </td><td>-21.75</td><td>-79.75</td></tr>\n",
       "\t<tr><td>  0   </td><td>  82  </td><td>NO    </td><td>346.16</td><td>132.00</td></tr>\n",
       "\t<tr><td>  0   </td><td>   0  </td><td>NO    </td><td>  0.00</td><td>  0.00</td></tr>\n",
       "</tbody>\n",
       "</table>\n"
      ],
      "text/latex": [
       "\\begin{tabular}{r|lllll}\n",
       " Total\\_Seguros & Total\\_Vista & Dif\\_Resid & Oper\\_Caj\\_Libreta & Oper\\_Ven\\_Libreta\\\\\n",
       "\\hline\n",
       "\t   0    &   10   & NO     &   0.00 &   0.00\\\\\n",
       "\t 850    &    0   & NO     &   0.00 & -65.00\\\\\n",
       "\t   0    & 1492   & SI     & 351.50 &   0.00\\\\\n",
       "\t   0    &   54   & NO     & -21.75 & -79.75\\\\\n",
       "\t   0    &   82   & NO     & 346.16 & 132.00\\\\\n",
       "\t   0    &    0   & NO     &   0.00 &   0.00\\\\\n",
       "\\end{tabular}\n"
      ],
      "text/markdown": [
       "\n",
       "| Total_Seguros | Total_Vista | Dif_Resid | Oper_Caj_Libreta | Oper_Ven_Libreta |\n",
       "|---|---|---|---|---|\n",
       "|   0    |   10   | NO     |   0.00 |   0.00 |\n",
       "| 850    |    0   | NO     |   0.00 | -65.00 |\n",
       "|   0    | 1492   | SI     | 351.50 |   0.00 |\n",
       "|   0    |   54   | NO     | -21.75 | -79.75 |\n",
       "|   0    |   82   | NO     | 346.16 | 132.00 |\n",
       "|   0    |    0   | NO     |   0.00 |   0.00 |\n",
       "\n"
      ],
      "text/plain": [
       "  Total_Seguros Total_Vista Dif_Resid Oper_Caj_Libreta Oper_Ven_Libreta\n",
       "1   0             10        NO          0.00             0.00          \n",
       "2 850              0        NO          0.00           -65.00          \n",
       "3   0           1492        SI        351.50             0.00          \n",
       "4   0             54        NO        -21.75           -79.75          \n",
       "5   0             82        NO        346.16           132.00          \n",
       "6   0              0        NO          0.00             0.00          "
      ]
     },
     "metadata": {},
     "output_type": "display_data"
    },
    {
     "data": {
      "text/html": [
       "<table>\n",
       "<thead><tr><th scope=col>Dif_CC</th><th scope=col>Dif_Libreta</th><th scope=col>Dif_Plazo</th><th scope=col>Dif_Ahorro</th><th scope=col>Dif_Largo_Plazo</th></tr></thead>\n",
       "<tbody>\n",
       "\t<tr><td>   0.00</td><td> -12.62</td><td>    0  </td><td>0      </td><td>0      </td></tr>\n",
       "\t<tr><td>   0.00</td><td> -21.69</td><td>    0  </td><td>0      </td><td>0      </td></tr>\n",
       "\t<tr><td>1548.22</td><td>   0.00</td><td>10000  </td><td>0      </td><td>0      </td></tr>\n",
       "\t<tr><td>   0.00</td><td> -34.19</td><td>    0  </td><td>0      </td><td>0      </td></tr>\n",
       "\t<tr><td>  -0.01</td><td>-225.54</td><td>    0  </td><td>0      </td><td>0      </td></tr>\n",
       "\t<tr><td>   0.00</td><td>   0.00</td><td>    0  </td><td>0      </td><td>0      </td></tr>\n",
       "</tbody>\n",
       "</table>\n"
      ],
      "text/latex": [
       "\\begin{tabular}{r|lllll}\n",
       " Dif\\_CC & Dif\\_Libreta & Dif\\_Plazo & Dif\\_Ahorro & Dif\\_Largo\\_Plazo\\\\\n",
       "\\hline\n",
       "\t    0.00 &  -12.62 &     0   & 0       & 0      \\\\\n",
       "\t    0.00 &  -21.69 &     0   & 0       & 0      \\\\\n",
       "\t 1548.22 &    0.00 & 10000   & 0       & 0      \\\\\n",
       "\t    0.00 &  -34.19 &     0   & 0       & 0      \\\\\n",
       "\t   -0.01 & -225.54 &     0   & 0       & 0      \\\\\n",
       "\t    0.00 &    0.00 &     0   & 0       & 0      \\\\\n",
       "\\end{tabular}\n"
      ],
      "text/markdown": [
       "\n",
       "| Dif_CC | Dif_Libreta | Dif_Plazo | Dif_Ahorro | Dif_Largo_Plazo |\n",
       "|---|---|---|---|---|\n",
       "|    0.00 |  -12.62 |     0   | 0       | 0       |\n",
       "|    0.00 |  -21.69 |     0   | 0       | 0       |\n",
       "| 1548.22 |    0.00 | 10000   | 0       | 0       |\n",
       "|    0.00 |  -34.19 |     0   | 0       | 0       |\n",
       "|   -0.01 | -225.54 |     0   | 0       | 0       |\n",
       "|    0.00 |    0.00 |     0   | 0       | 0       |\n",
       "\n"
      ],
      "text/plain": [
       "  Dif_CC  Dif_Libreta Dif_Plazo Dif_Ahorro Dif_Largo_Plazo\n",
       "1    0.00  -12.62         0     0          0              \n",
       "2    0.00  -21.69         0     0          0              \n",
       "3 1548.22    0.00     10000     0          0              \n",
       "4    0.00  -34.19         0     0          0              \n",
       "5   -0.01 -225.54         0     0          0              \n",
       "6    0.00    0.00         0     0          0              "
      ]
     },
     "metadata": {},
     "output_type": "display_data"
    },
    {
     "data": {
      "text/html": [
       "<table>\n",
       "<thead><tr><th scope=col>Dif_Fondos_Inv</th><th scope=col>Dif_Seguros</th><th scope=col>Dif_Planes_Pension</th><th scope=col>Dif_Hipoteca</th><th scope=col>Dif_Prest_Personales</th></tr></thead>\n",
       "<tbody>\n",
       "\t<tr><td>0    </td><td> 0.00</td><td>0    </td><td>  101</td><td>0    </td></tr>\n",
       "\t<tr><td>0    </td><td>-0.41</td><td>0    </td><td>    0</td><td>0    </td></tr>\n",
       "\t<tr><td>0    </td><td> 0.00</td><td>0    </td><td>11101</td><td>0    </td></tr>\n",
       "\t<tr><td>0    </td><td> 0.00</td><td>0    </td><td>    0</td><td>0    </td></tr>\n",
       "\t<tr><td>0    </td><td> 0.00</td><td>0    </td><td>    0</td><td>0    </td></tr>\n",
       "\t<tr><td>0    </td><td> 0.00</td><td>0    </td><td>    0</td><td>0    </td></tr>\n",
       "</tbody>\n",
       "</table>\n"
      ],
      "text/latex": [
       "\\begin{tabular}{r|lllll}\n",
       " Dif\\_Fondos\\_Inv & Dif\\_Seguros & Dif\\_Planes\\_Pension & Dif\\_Hipoteca & Dif\\_Prest\\_Personales\\\\\n",
       "\\hline\n",
       "\t 0     &  0.00 & 0     &   101 & 0    \\\\\n",
       "\t 0     & -0.41 & 0     &     0 & 0    \\\\\n",
       "\t 0     &  0.00 & 0     & 11101 & 0    \\\\\n",
       "\t 0     &  0.00 & 0     &     0 & 0    \\\\\n",
       "\t 0     &  0.00 & 0     &     0 & 0    \\\\\n",
       "\t 0     &  0.00 & 0     &     0 & 0    \\\\\n",
       "\\end{tabular}\n"
      ],
      "text/markdown": [
       "\n",
       "| Dif_Fondos_Inv | Dif_Seguros | Dif_Planes_Pension | Dif_Hipoteca | Dif_Prest_Personales |\n",
       "|---|---|---|---|---|\n",
       "| 0     |  0.00 | 0     |   101 | 0     |\n",
       "| 0     | -0.41 | 0     |     0 | 0     |\n",
       "| 0     |  0.00 | 0     | 11101 | 0     |\n",
       "| 0     |  0.00 | 0     |     0 | 0     |\n",
       "| 0     |  0.00 | 0     |     0 | 0     |\n",
       "| 0     |  0.00 | 0     |     0 | 0     |\n",
       "\n"
      ],
      "text/plain": [
       "  Dif_Fondos_Inv Dif_Seguros Dif_Planes_Pension Dif_Hipoteca\n",
       "1 0               0.00       0                    101       \n",
       "2 0              -0.41       0                      0       \n",
       "3 0               0.00       0                  11101       \n",
       "4 0               0.00       0                      0       \n",
       "5 0               0.00       0                      0       \n",
       "6 0               0.00       0                      0       \n",
       "  Dif_Prest_Personales\n",
       "1 0                   \n",
       "2 0                   \n",
       "3 0                   \n",
       "4 0                   \n",
       "5 0                   \n",
       "6 0                   "
      ]
     },
     "metadata": {},
     "output_type": "display_data"
    }
   ],
   "source": [
    "head(churn[,1:8])\n",
    "head(churn[,9:15])\n",
    "head(churn[,16:20])\n",
    "head(churn[,21:25])\n",
    "head(churn[,26:30])"
   ]
  },
  {
   "cell_type": "code",
   "execution_count": 8,
   "metadata": {},
   "outputs": [
    {
     "data": {
      "image/png": "[encoded data removed]",
      "text/plain": [
       "plot without title"
      ]
     },
     "metadata": {},
     "output_type": "display_data"
    },
    {
     "data": {
      "image/png": "[encoded data removed]",
      "text/plain": [
       "plot without title"
      ]
     },
     "metadata": {},
     "output_type": "display_data"
    }
   ],
   "source": [
    "# EJECUCIÓN DEL ANÁLISIS DE COMPONENTES PRINCIPALES\n",
    "nd = 4    # numero de dimensiones retenidas \n",
    "pca.churn <- PCA(churn, ncp=nd, quali.sup=c(1:3,5:12,18),\n",
    "                 quanti.sup=c(4,19:30),\n",
    "                 ind.sup=c(which(churn$Baja==\"SI\"))\n",
    "                 )"
   ]
  },
  {
   "cell_type": "markdown",
   "metadata": {},
   "source": [
    "1.\tCon las componentes principales halladas significativas, efectúe una Clasificación Ascendente Jerárquica por el método de Ward. Explique en qué consiste el método de agregación de Ward?. Represente el dendrograma (o árbol jerárquico) obtenido. "
   ]
  },
  {
   "cell_type": "markdown",
   "metadata": {},
   "source": [
    "**Método de Ward:** \n",
    "\n",
    "El método de Ward es un criterio para la construcción de un árbol jerárquico. En cada integración de individuos en clusters hay una pérdida de información que se puede medir a través de la suma total de los cuadrados de las diferencias de cada individuo y el centroide del cluster en el que se integra. Para optimizar el proceso de clusterización de manera que se minimice la pérdida de información, Ward propone que en cada etapa de la creación del árbol jerárquico se unan los dos clusters para los cuales esta pérdida de información tenga el menor incremento. "
   ]
  },
  {
   "cell_type": "code",
   "execution_count": 9,
   "metadata": {},
   "outputs": [
    {
     "data": {
      "image/png": "[encoded data removed]",
      "text/plain": [
       "Plot with title \"Cluster Dendrogram\""
      ]
     },
     "metadata": {},
     "output_type": "display_data"
    }
   ],
   "source": [
    "Psi = pca.churn$ind$coord\n",
    "\n",
    "# CÁLCULO DE LA MATRIZ DE DISTANCIAS A PARTIR DE LAS LAS COMPONENTES SIGNFICATIVAS\n",
    "dist.churn <- dist(Psi)\n",
    "\n",
    "# CLUSTERING JERARQUICO, METODO DE Ward\n",
    "hclus.churn <- hclust(dist.churn,method=\"ward.D2\")\n",
    "\n",
    "# PLOT DEL ÁRBOL JERÁRQUICO \n",
    "plot(hclus.churn,cex=0.3)"
   ]
  },
  {
   "cell_type": "markdown",
   "metadata": {},
   "source": [
    "2.\tA la vista del diagrama de barras del índice de nivel de las últimas agregaciones efectuadas, decida el número de clases de clientes diferentes que existen en los datos analizados. \n"
   ]
  },
  {
   "cell_type": "code",
   "execution_count": 10,
   "metadata": {},
   "outputs": [
    {
     "data": {
      "image/png": "[encoded data removed]",
      "text/plain": [
       "plot without title"
      ]
     },
     "metadata": {},
     "output_type": "display_data"
    }
   ],
   "source": [
    "# DIAGRAMA DE BARRAS DEL INDICE DE AGREGACION DE LAS ULTIMAS 29 AGREGACIONES FORMADAS\n",
    "barplot(hclus.churn$height[(sum(churn$Baja==\"NO\")-30):(sum(churn$Baja==\"NO\")-1)])"
   ]
  },
  {
   "cell_type": "markdown",
   "metadata": {},
   "source": [
    "La diferencia entre barras más significativa aparece después de la cuarta barra empezando por la izquierda, por lo que cogemos 5 clases. En el dendograma del ejercicio anterior también vemos claramente donde aparecen estas 5 particiones con mayor altura."
   ]
  },
  {
   "cell_type": "code",
   "execution_count": 11,
   "metadata": {},
   "outputs": [],
   "source": [
    "#NÚMERO DE CLASES\n",
    "nc=5"
   ]
  },
  {
   "cell_type": "markdown",
   "metadata": {},
   "source": [
    "3.\tObtenga la partición del árbol jerárquico en el número de clases finales deseado. Diga el número de clientes por “cluster”, y calcule el centro de gravedad de los clusters obtenidos.\n"
   ]
  },
  {
   "cell_type": "code",
   "execution_count": 12,
   "metadata": {},
   "outputs": [
    {
     "data": {
      "text/plain": [
       "cut\n",
       "  1   2   3   4   5 \n",
       "929  12  50   7   2 "
      ]
     },
     "metadata": {},
     "output_type": "display_data"
    }
   ],
   "source": [
    "# CORTE DEL ÁRBOL DE AGREGACIÓN EN nc CLASES\n",
    "cut <- cutree(hclus.churn,nc)\n",
    "\n",
    "# NÚMERO DE CLIENTES POR CLASE\n",
    "table(cut)"
   ]
  },
  {
   "cell_type": "code",
   "execution_count": 38,
   "metadata": {},
   "outputs": [
    {
     "data": {
      "image/png": "[encoded data removed]",
      "text/plain": [
       "Plot with title \"Clustering of churn in 5 classes\""
      ]
     },
     "metadata": {},
     "output_type": "display_data"
    }
   ],
   "source": [
    "# GRÁFICO DE LAS nc CLASES EN EL PRIMER PLANO FACTORIAL\n",
    "plot(Psi[,1],Psi[,2],type=\"n\",main=\"Clustering of churn in 5 classes\")\n",
    "text(Psi[,1],Psi[,2],col=cut,labels=row.names(churn),cex = 0.6)\n",
    "abline(h=0,v=0,col=\"gray\")\n",
    "legend(\"topleft\",c(\"c1\",\"c2\",\"c3\",\"c4\",\"c5\"),pch=20,col=c(1:5))"
   ]
  },
  {
   "cell_type": "code",
   "execution_count": 15,
   "metadata": {},
   "outputs": [
    {
     "data": {
      "text/html": [
       "<table>\n",
       "<thead><tr><th scope=col>Dim.1</th><th scope=col>Dim.2</th><th scope=col>Dim.3</th><th scope=col>Dim.4</th></tr></thead>\n",
       "<tbody>\n",
       "\t<tr><td>-0.1938027 </td><td> 0.01932604</td><td> 0.02818086</td><td>-0.1332193 </td></tr>\n",
       "\t<tr><td>-0.8015197 </td><td>-5.21146890</td><td>-2.40725327</td><td> 4.8409517 </td></tr>\n",
       "\t<tr><td> 3.8276677 </td><td>-0.21613527</td><td>-0.15227673</td><td> 0.1299982 </td></tr>\n",
       "\t<tr><td>-0.2781584 </td><td> 7.64299582</td><td>-3.62433617</td><td> 5.7806713 </td></tr>\n",
       "\t<tr><td> 0.1123385 </td><td> 0.94476352</td><td>17.84560647</td><td> 9.3523562 </td></tr>\n",
       "</tbody>\n",
       "</table>\n"
      ],
      "text/latex": [
       "\\begin{tabular}{r|llll}\n",
       " Dim.1 & Dim.2 & Dim.3 & Dim.4\\\\\n",
       "\\hline\n",
       "\t -0.1938027  &  0.01932604 &  0.02818086 & -0.1332193 \\\\\n",
       "\t -0.8015197  & -5.21146890 & -2.40725327 &  4.8409517 \\\\\n",
       "\t  3.8276677  & -0.21613527 & -0.15227673 &  0.1299982 \\\\\n",
       "\t -0.2781584  &  7.64299582 & -3.62433617 &  5.7806713 \\\\\n",
       "\t  0.1123385  &  0.94476352 & 17.84560647 &  9.3523562 \\\\\n",
       "\\end{tabular}\n"
      ],
      "text/markdown": [
       "\n",
       "| Dim.1 | Dim.2 | Dim.3 | Dim.4 |\n",
       "|---|---|---|---|\n",
       "| -0.1938027  |  0.01932604 |  0.02818086 | -0.1332193  |\n",
       "| -0.8015197  | -5.21146890 | -2.40725327 |  4.8409517  |\n",
       "|  3.8276677  | -0.21613527 | -0.15227673 |  0.1299982  |\n",
       "| -0.2781584  |  7.64299582 | -3.62433617 |  5.7806713  |\n",
       "|  0.1123385  |  0.94476352 | 17.84560647 |  9.3523562  |\n",
       "\n"
      ],
      "text/plain": [
       "  Dim.1      Dim.2       Dim.3       Dim.4     \n",
       "1 -0.1938027  0.01932604  0.02818086 -0.1332193\n",
       "2 -0.8015197 -5.21146890 -2.40725327  4.8409517\n",
       "3  3.8276677 -0.21613527 -0.15227673  0.1299982\n",
       "4 -0.2781584  7.64299582 -3.62433617  5.7806713\n",
       "5  0.1123385  0.94476352 17.84560647  9.3523562"
      ]
     },
     "metadata": {},
     "output_type": "display_data"
    }
   ],
   "source": [
    "# CENTRO DE GRAVEDAD DE LAS CLASES\n",
    "cdg.nc <- aggregate(as.data.frame(Psi),list(cut),mean)[,2:(nd+1)]\n",
    "cdg.nc"
   ]
  },
  {
   "cell_type": "code",
   "execution_count": 16,
   "metadata": {},
   "outputs": [
    {
     "data": {
      "text/html": [
       "71.5609258146373"
      ],
      "text/latex": [
       "71.5609258146373"
      ],
      "text/markdown": [
       "71.5609258146373"
      ],
      "text/plain": [
       "[1] 71.56093"
      ]
     },
     "metadata": {},
     "output_type": "display_data"
    }
   ],
   "source": [
    "# CALIDAD DEL CORTE DEL ÁRBOL JERÁRQUICO\n",
    "Bss <- sum(rowSums(cdg.nc^2)*as.numeric(table(cut)))\n",
    "Tss <- sum(Psi^2)\n",
    "100*Bss/Tss"
   ]
  },
  {
   "cell_type": "markdown",
   "metadata": {},
   "source": [
    "La calidad de la partición del árbol jerarquico es del ~71.56%"
   ]
  },
  {
   "cell_type": "markdown",
   "metadata": {},
   "source": [
    "4.\tEn qué consiste la operación de consolidación de una partición obtenida por corte del árbol jerárquico. Efectúe esta operación en la partición obtenida en el apartado 3 anterior. Diga el número de clientes en las clases finales obtenidas.\n"
   ]
  },
  {
   "cell_type": "markdown",
   "metadata": {},
   "source": [
    "**Consolidación:**\n",
    "\n",
    "Al realizar el árbol jerárquico juntando pares de clusters con la menor pérdida de información, podemos acabar con algunos individuos que pertenezcan a un cluster impuesto por la partición jerárquica del árbol pero que en realidad estén más cerca de un centroide de otra clase. El proceso de consolidación permite corregir este error asociando estos individuos al cluster al que deberían pertenecer, y mejorando el clustering final. "
   ]
  },
  {
   "cell_type": "code",
   "execution_count": 27,
   "metadata": {},
   "outputs": [
    {
     "data": {
      "text/html": [
       "<ol class=list-inline>\n",
       "\t<li>'Clase 1: 943'</li>\n",
       "\t<li>'Clase 2: 17'</li>\n",
       "\t<li>'Clase 3: 30'</li>\n",
       "\t<li>'Clase 4: 8'</li>\n",
       "\t<li>'Clase 5: 2'</li>\n",
       "</ol>\n"
      ],
      "text/latex": [
       "\\begin{enumerate*}\n",
       "\\item 'Clase 1: 943'\n",
       "\\item 'Clase 2: 17'\n",
       "\\item 'Clase 3: 30'\n",
       "\\item 'Clase 4: 8'\n",
       "\\item 'Clase 5: 2'\n",
       "\\end{enumerate*}\n"
      ],
      "text/markdown": [
       "1. 'Clase 1: 943'\n",
       "2. 'Clase 2: 17'\n",
       "3. 'Clase 3: 30'\n",
       "4. 'Clase 4: 8'\n",
       "5. 'Clase 5: 2'\n",
       "\n",
       "\n"
      ],
      "text/plain": [
       "[1] \"Clase 1: 943\" \"Clase 2: 17\"  \"Clase 3: 30\"  \"Clase 4: 8\"   \"Clase 5: 2\"  "
      ]
     },
     "metadata": {},
     "output_type": "display_data"
    }
   ],
   "source": [
    "# CONSOLIDACIÓN DE LA PARTICIÓN\n",
    "\n",
    "# ALGORITMO kmeans CON CENTROS INICIALES EN LOS CENTROIDES cdg.nc\n",
    "kmeans <- kmeans(Psi,centers=cdg.nc)\n",
    "\n",
    "# NÚMERO DE INDIVIDUOS POR CLASE FINAL\n",
    "sapply(1:5, function(i) paste0(\"Clase \", i, \": \", kmeans$size[i]))"
   ]
  },
  {
   "cell_type": "code",
   "execution_count": 36,
   "metadata": {},
   "outputs": [
    {
     "data": {
      "text/html": [
       "73.1853739967503"
      ],
      "text/latex": [
       "73.1853739967503"
      ],
      "text/markdown": [
       "73.1853739967503"
      ],
      "text/plain": [
       "[1] 73.18537"
      ]
     },
     "metadata": {},
     "output_type": "display_data"
    }
   ],
   "source": [
    "# CALIDAD DE LA PARTICIÓN FINAL EN 5 CLASSES\n",
    "100*kmeans$betweenss/kmeans$totss"
   ]
  },
  {
   "cell_type": "markdown",
   "metadata": {},
   "source": [
    "Después de realizar la consolidación, la calidad de la partición mejora de ~71.56% a ~73.18%"
   ]
  },
  {
   "cell_type": "markdown",
   "metadata": {},
   "source": [
    "5.\tRepresente la partición final obtenida en el primer gráfico factorial, distinguiendo con colores diferentes cada una de las clases de clientes detectados. "
   ]
  },
  {
   "cell_type": "code",
   "execution_count": 37,
   "metadata": {},
   "outputs": [
    {
     "data": {
      "image/png": "[encoded data removed]",
      "text/plain": [
       "Plot with title \"Clustering of cars in 5 classes\""
      ]
     },
     "metadata": {},
     "output_type": "display_data"
    }
   ],
   "source": [
    "# VISUALIZACIÓN DE LAS nc CLASES FINALES EN EL PRIMER PLANO FACTORIAL\n",
    "plot(Psi[,1],Psi[,2],type=\"n\",main=\"Clustering of cars in 5 classes\")\n",
    "text(Psi[,1],Psi[,2],col=kmeans$cluster,labels=row.names(churn),cex = 0.6)\n",
    "abline(h=0,v=0,col=\"gray\")\n",
    "legend(\"topleft\",c(\"c1\",\"c2\",\"c3\",\"c4\",\"c5\"),pch=20,col=c(1:5))"
   ]
  },
  {
   "cell_type": "markdown",
   "metadata": {},
   "source": [
    "6.\tInterpretamos las clases finales obtenidas. Para ello utilizamos la función “catdes” de R. Primero damos las características significativas de cada clase (identificada como `1` la primera clase por ejemplo) para las variables continuas (=quanti) (por ejemplo quanti$´1´ se refiere a las características significativas de las variables continuas en la primera clase). Después aparecen las modalidades (=category) significativas de las variables categóricas en cada una de las clases. Interprete y de un nombre a cada una de los tipos de cliente identificados."
   ]
  },
  {
   "cell_type": "code",
   "execution_count": 40,
   "metadata": {},
   "outputs": [
    {
     "data": {
      "text/plain": [
       "\n",
       "Link between the cluster variable and the categorical variables (chi-square test)\n",
       "=================================================================================\n",
       "             p.value df\n",
       "Baja    0.000000e+00  4\n",
       "Pension 4.434178e-05  4\n",
       "Edad    9.246903e-05 24\n",
       "Amex    6.296829e-04  4\n",
       "\n",
       "Description of each cluster by the categories\n",
       "=============================================\n",
       "$`1`\n",
       "NULL\n",
       "\n",
       "$`2`\n",
       "          Cla/Mod Mod/Cla Global     p.value    v.test\n",
       "Edad=66..       0       0   35.8 0.000495095 -3.483396\n",
       "\n",
       "$`3`\n",
       "            Cla/Mod  Mod/Cla Global      p.value    v.test\n",
       "Edad=66..  6.703911 80.00000   35.8 7.196586e-07  4.955982\n",
       "Pension=SI 6.250000 63.33333   30.4 1.914268e-04  3.730070\n",
       "Pension=NO 1.580460 36.66667   69.6 1.914268e-04 -3.730070\n",
       "\n",
       "$`4`\n",
       "NULL\n",
       "\n",
       "$`5`\n",
       "NULL\n",
       "\n",
       "\n",
       "Link between the cluster variable and the quantitative variables\n",
       "================================================================\n",
       "                      Eta2       P-value\n",
       "Total_Seguros   0.81512250  0.000000e+00\n",
       "Total_Inversion 0.74941183 3.593863e-297\n",
       "Total_Activo    0.73444525 1.203901e-284\n",
       "Dif_Hipoteca    0.56169594 1.702758e-176\n",
       "Dif_Fondos_Inv  0.50607126 1.001642e-150\n",
       "Total_Plazo     0.45725961 2.081869e-130\n",
       "Dif_Seguros     0.34385194  1.563569e-89\n",
       "Total_Vista     0.34295606  3.074613e-89\n",
       "Dif_Libreta     0.20154036  2.378582e-47\n",
       "Dif_Plazo       0.16792099  1.617848e-38\n",
       "Dif_Largo_Plazo 0.08216352  1.252315e-17\n",
       "Dif_CC          0.05666837  7.257869e-12\n",
       "\n",
       "Description of each cluster by quantitative variables\n",
       "=====================================================\n",
       "$`1`\n",
       "                    v.test Mean in category Overall mean sd in category\n",
       "Dif_CC           -4.862400         16.47144     30.57011       145.1707\n",
       "Total_Seguros    -4.886175         68.49523    110.47800       469.6519\n",
       "Dif_Largo_Plazo  -6.313717         24.92011     51.51208       292.9850\n",
       "Dif_Fondos_Inv   -7.998759        104.20168    296.85001       934.1209\n",
       "Dif_Plazo        -9.792796        117.90793    238.50193       857.9270\n",
       "Total_Inversion  -9.937273        214.45175    483.79900      1297.0380\n",
       "Dif_Libreta     -10.497773         68.51697    130.97747       497.9305\n",
       "Dif_Hipoteca    -12.546543         35.72853    182.97200       301.4566\n",
       "Total_Vista     -13.723042        235.12725    326.84500       397.4841\n",
       "Total_Activo    -14.113430        120.51962    305.92500       443.3042\n",
       "Total_Plazo     -15.260763        384.86002    673.75000      1231.3871\n",
       "                Overall sd      p.value\n",
       "Dif_CC            372.7594 1.159710e-06\n",
       "Total_Seguros    1104.5954 1.028137e-06\n",
       "Dif_Largo_Plazo   541.4603 2.724124e-10\n",
       "Dif_Fondos_Inv   3096.3056 1.256795e-15\n",
       "Dif_Plazo        1583.1430 1.209053e-22\n",
       "Total_Inversion  3484.5483 2.865643e-23\n",
       "Dif_Libreta       764.9085 8.844195e-26\n",
       "Dif_Hipoteca     1508.7356 4.152474e-36\n",
       "Total_Vista       859.2196 7.389894e-43\n",
       "Total_Activo     1688.8494 3.139292e-45\n",
       "Total_Plazo      2433.6459 1.396066e-52\n",
       "\n",
       "$`2`\n",
       "                    v.test Mean in category Overall mean sd in category\n",
       "Total_Activo     27.083493       11310.2941    305.92500      5801.1231\n",
       "Dif_Hipoteca     23.687819        8781.1765    182.97200      7324.4475\n",
       "Oper_Caj_Libreta  3.918859         107.3465      5.94846       163.9438\n",
       "                 Overall sd       p.value\n",
       "Total_Activo      1688.8494 1.540845e-161\n",
       "Dif_Hipoteca      1508.7356 4.814590e-124\n",
       "Oper_Caj_Libreta   107.5475  8.896911e-05\n",
       "\n",
       "$`3`\n",
       "                   v.test Mean in category Overall mean sd in category\n",
       "Total_Plazo     21.364314       10027.5667    673.75000       7506.553\n",
       "Total_Vista     18.491172        3185.1667    326.84500       3316.902\n",
       "Dif_Libreta     14.142616        2077.1517    130.97747       2780.722\n",
       "Dif_Plazo       12.892550        3910.4917    238.50193       6575.896\n",
       "Dif_Largo_Plazo  9.056810         933.7473     51.51208       2504.285\n",
       "Dif_CC           6.590723         472.5517     30.57011       1788.570\n",
       "                Overall sd       p.value\n",
       "Total_Plazo      2433.6459 2.870355e-101\n",
       "Total_Vista       859.2196  2.432084e-76\n",
       "Dif_Libreta       764.9085  2.074272e-45\n",
       "Dif_Plazo        1583.1430  4.957707e-38\n",
       "Dif_Largo_Plazo   541.4603  1.343211e-19\n",
       "Dif_CC            372.7594  4.376886e-11\n",
       "\n",
       "$`4`\n",
       "                  v.test Mean in category Overall mean sd in category\n",
       "Total_Inversion 27.36006         34072.38      483.799       13322.28\n",
       "Dif_Fondos_Inv  22.48360         24823.48      296.850       22114.77\n",
       "                Overall sd       p.value\n",
       "Total_Inversion   3484.548 8.198517e-165\n",
       "Dif_Fondos_Inv    3096.306 6.005878e-112\n",
       "\n",
       "$`5`\n",
       "                v.test Mean in category Overall mean sd in category Overall sd\n",
       "Total_Seguros 28.53428        22386.500    110.47800       2925.500   1104.595\n",
       "Dif_Seguros   18.53273         9690.575     58.43165       9770.425    735.387\n",
       "                    p.value\n",
       "Total_Seguros 4.402260e-179\n",
       "Dif_Seguros    1.124302e-76\n"
      ]
     },
     "metadata": {},
     "output_type": "display_data"
    }
   ],
   "source": [
    "# INTERPRETACÓN DE LAS 5 CLASES FINALES OBTENIDAS\n",
    "#catdes(cbind(as.factor(kmeans$cluster),churn),num.var=1,proba=0.001)\n",
    "catdes(cbind(as.factor(kmeans$cluster),churn[which(churn$Baja==\"NO\"),]),num.var=1,proba=0.001)"
   ]
  },
  {
   "cell_type": "markdown",
   "metadata": {},
   "source": [
    "Interpretación de clases:\n",
    "\n",
    "**CLASE 1** - Clientes de menos categoría\n",
    "Este grupo constituye a la mayoría de los clientes. Son clientes que tienen menos dinero a plazo, vista, en activo y en fondos de inversión que la media.\n",
    "\n",
    "**CLASE 2** - Clientes recientemente hipotecados\n",
    "Clientes con un total activo por encima de la media y con un cambio significativo en hipotecas en los últimos meses. \n",
    "\n",
    "**CLASE 3** - Clientes con dinero\n",
    "Clientes to más dinero tanto a plazo como a vista. \n",
    "\n",
    "**CLASE 4** - Clientes inversores\n",
    "Clientes con más fondos de inversión. \n",
    "\n",
    "**CLASE 5** - Clientes con seguros\n",
    "Clientes que han contratado más seguros. "
   ]
  },
  {
   "cell_type": "markdown",
   "metadata": {},
   "source": [
    "7.\tEfectúe ahora la asignación de los clientes que han sido baja en la tipología de clientes anterior (utilice para ello la función knn1 de la librería class). "
   ]
  },
  {
   "cell_type": "code",
   "execution_count": 42,
   "metadata": {},
   "outputs": [
    {
     "data": {
      "text/plain": [
       "pred.sup\n",
       " c1  c2  c3  c4  c5 \n",
       "812  50 111  15   8 "
      ]
     },
     "metadata": {},
     "output_type": "display_data"
    }
   ],
   "source": [
    "# ASIGNACIÓN CLIENTES DE BAJA\n",
    "pred.sup <- knn1(kmeans$centers, pca.churn$ind.sup$coord[,1:nd], cl=c(\"c1\",\"c2\",\"c3\",\"c4\",\"c5\"))\n",
    "#pred.sup\n",
    "table(pred.sup)"
   ]
  },
  {
   "cell_type": "markdown",
   "metadata": {},
   "source": [
    "8.\tRepresente gráficamente (función barplot) la proporción de clientes en cada una de las clases, tanto los clientes “normales”, como los que han sido baja. ¿Podemos deducir que algunos clusters tienen un riesgo de baja mayor que otros?. "
   ]
  },
  {
   "cell_type": "code",
   "execution_count": 43,
   "metadata": {},
   "outputs": [
    {
     "data": {
      "text/html": [
       "<table>\n",
       "<thead><tr><th scope=col>Clusters</th><th scope=col>Activos</th><th scope=col>Bajas</th></tr></thead>\n",
       "<tbody>\n",
       "\t<tr><td>c1 </td><td>943</td><td>812</td></tr>\n",
       "\t<tr><td>c3 </td><td> 17</td><td>111</td></tr>\n",
       "\t<tr><td>c2 </td><td> 30</td><td> 50</td></tr>\n",
       "\t<tr><td>c4 </td><td>  8</td><td> 15</td></tr>\n",
       "\t<tr><td>c5 </td><td>  2</td><td>  8</td></tr>\n",
       "</tbody>\n",
       "</table>\n"
      ],
      "text/latex": [
       "\\begin{tabular}{r|lll}\n",
       " Clusters & Activos & Bajas\\\\\n",
       "\\hline\n",
       "\t c1  & 943 & 812\\\\\n",
       "\t c3  &  17 & 111\\\\\n",
       "\t c2  &  30 &  50\\\\\n",
       "\t c4  &   8 &  15\\\\\n",
       "\t c5  &   2 &   8\\\\\n",
       "\\end{tabular}\n"
      ],
      "text/markdown": [
       "\n",
       "| Clusters | Activos | Bajas |\n",
       "|---|---|---|\n",
       "| c1  | 943 | 812 |\n",
       "| c3  |  17 | 111 |\n",
       "| c2  |  30 |  50 |\n",
       "| c4  |   8 |  15 |\n",
       "| c5  |   2 |   8 |\n",
       "\n"
      ],
      "text/plain": [
       "  Clusters Activos Bajas\n",
       "1 c1       943     812  \n",
       "2 c3        17     111  \n",
       "3 c2        30      50  \n",
       "4 c4         8      15  \n",
       "5 c5         2       8  "
      ]
     },
     "metadata": {},
     "output_type": "display_data"
    },
    {
     "data": {
      "image/png": "[encoded data removed]",
      "text/plain": [
       "plot without title"
      ]
     },
     "metadata": {},
     "output_type": "display_data"
    }
   ],
   "source": [
    "pred.sup.agg <- sapply(unique(pred.sup), function(i) sum(pred.sup==i))\n",
    "clusters.churn <- data.frame(\n",
    "                     Clusters = unique(pred.sup),\n",
    "                     Activos = kmeans$size,\n",
    "                     Bajas = pred.sup.agg)\n",
    "clusters.churn\n",
    "\n",
    "barplot(t(select(clusters.churn, 2,3)), \n",
    "        beside = TRUE,\n",
    "        names.arg = clusters.churn$Clusters,\n",
    "        legend.text = TRUE,\n",
    "        ylim = c(0,1000),\n",
    "        ylab = \"#Clients\",\n",
    "        xlab = \"Clusters\")\n"
   ]
  },
  {
   "cell_type": "markdown",
   "metadata": {},
   "source": [
    "La gráfica indica que la proporción de clientes activos y bajas en cada cluster no es la misma. \n",
    "Vemos que hay un porcentage menor de bajas en la primera clase, que constituye a clientes de menos nivel, y que en la clase de clientes con más dinero (3) el porcentage de bajas es particularmente alto. En las otras clases, también vemos riesgo de bajas mayor a los clientes activos, aunque no tan significativo. \n",
    "Como hemos visto previamente, parece que los clientes de mayor interés tienen un riesgo particularmente algo de baja, lo que es problemático. "
   ]
  },
  {
   "cell_type": "code",
   "execution_count": null,
   "metadata": {},
   "outputs": [],
   "source": []
  }
 ],
 "metadata": {
  "kernelspec": {
   "display_name": "R",
   "language": "R",
   "name": "ir"
  },
  "language_info": {
   "codemirror_mode": "r",
   "file_extension": ".r",
   "mimetype": "text/x-r-source",
   "name": "R",
   "pygments_lexer": "r",
   "version": "3.6.1"
  }
 },
 "nbformat": 4,
 "nbformat_minor": 2
}
